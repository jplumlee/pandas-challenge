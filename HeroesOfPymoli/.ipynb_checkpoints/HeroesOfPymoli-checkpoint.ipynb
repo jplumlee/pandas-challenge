{
 "cells": [
  {
   "cell_type": "code",
   "execution_count": 1,
   "metadata": {},
   "outputs": [],
   "source": [
    "#import modules\n",
    "import pandas as pd\n",
    "import os"
   ]
  },
  {
   "cell_type": "code",
   "execution_count": 2,
   "metadata": {},
   "outputs": [],
   "source": [
    "#Where my csv is at\n",
    "csvpath = os.path.join('Resources', 'purchase_data.csv')"
   ]
  },
  {
   "cell_type": "code",
   "execution_count": 3,
   "metadata": {},
   "outputs": [],
   "source": [
    "hop_df = pd.read_csv(csvpath)"
   ]
  },
  {
   "cell_type": "code",
   "execution_count": 4,
   "metadata": {},
   "outputs": [],
   "source": [
    "# Total Number of Players\n",
    "# player_count_df = hop_df.groupby('SN')['SN'].nunique()\n",
    "unique_players = hop_df['SN'].unique()\n",
    "player_count = len(unique_players)\n",
    "# total_number_players = pd.DataFrame({'Total Number of Players' : player_count}, index=[0])"
   ]
  },
  {
   "cell_type": "code",
   "execution_count": 5,
   "metadata": {},
   "outputs": [
    {
     "data": {
      "text/plain": [
       "183"
      ]
     },
     "execution_count": 5,
     "metadata": {},
     "output_type": "execute_result"
    }
   ],
   "source": [
    "# Number of Unique Items\n",
    "unique_items = hop_df[\"Item ID\"].unique()\n",
    "unique_items_count = len(unique_items)\n",
    "unique_items_count"
   ]
  },
  {
   "cell_type": "code",
   "execution_count": 6,
   "metadata": {},
   "outputs": [],
   "source": [
    "# Average Purchase Price\n",
    "avg_purchase_price = hop_df[\"Price\"].mean()\n",
    "avg_purchase_price\n",
    "\n",
    "# Total Number of Purchases\n",
    "number_of_purchases = hop_df[\"Purchase ID\"].count()\n",
    "\n",
    "# Total Revenue\n",
    "total_revenue = hop_df[\"Price\"].sum()"
   ]
  },
  {
   "cell_type": "code",
   "execution_count": 7,
   "metadata": {},
   "outputs": [],
   "source": [
    "# Percentage and Count of Male Players\n",
    "male_players_df = hop_df.loc[hop_df['Gender'] == 'Male']\n",
    "unique_male_players = male_players_df[\"SN\"].unique()\n",
    "count_male = len(unique_male_players)\n",
    "percentage_male = (count_male/player_count)*100\n",
    "\n",
    "# Percentage and Count of Female Players\n",
    "female_players_df = hop_df.loc[hop_df['Gender'] == 'Female']\n",
    "unique_female_players = female_players_df[\"SN\"].unique()\n",
    "count_female = len(unique_female_players)\n",
    "percentage_female = (count_female/player_count)*100\n",
    "\n",
    "\n",
    "# # Percentage and Count of Other / Non-Disclosed\n",
    "other_players_df = hop_df.loc[hop_df['Gender'] == 'Other / Non-Disclosed']\n",
    "unique_other_players = other_players_df[\"SN\"].unique()\n",
    "count_other = len(unique_other_players)\n",
    "percentage_other = (count_other/player_count)*100"
   ]
  },
  {
   "cell_type": "code",
   "execution_count": 8,
   "metadata": {},
   "outputs": [],
   "source": [
    "# The below each broken by gender\n",
    "\n",
    "# Purchase Count, Average Purchase Price, Total Purchase Value, Average Purchase Total per Person by Gender\n",
    "male_purchase_count = male_players_df['Purchase ID'].count()\n",
    "male_avg_purchase_price = round(male_players_df['Price'].mean(), 2)\n",
    "male_total_purchase_val = male_players_df['Price'].sum()\n",
    "male_avg_total_purchase = (male_total_purchase_val/count_male)\n",
    "\n",
    "#Female\n",
    "female_purchase_count = female_players_df['Purchase ID'].count()\n",
    "female_avg_purchase_price = round(female_players_df['Price'].mean(), 2)\n",
    "female_total_purchase_val = female_players_df['Price'].sum()\n",
    "female_avg_total_purchase = (female_total_purchase_val/count_female)\n",
    "\n",
    "#Other\n",
    "other_purchase_count = other_players_df['Purchase ID'].count()\n",
    "other_avg_purchase_price = round(other_players_df['Price'].mean(), 2)\n",
    "other_total_purchase_val = other_players_df['Price'].sum()\n",
    "other_avg_total_purchase = (other_total_purchase_val/count_other)"
   ]
  },
  {
   "cell_type": "code",
   "execution_count": 9,
   "metadata": {},
   "outputs": [],
   "source": [
    "youngest = hop_df['Age'].min()\n",
    "oldest = hop_df['Age'].max()\n",
    "\n",
    "# Establish bins for ages\n",
    "# The below each broken into bins of 4 years (i.e. <10, 10-14, 15-19, etc.)\n",
    "bins = [0, 9, 14, 19, 24, 29, 34, 39, 100]\n",
    "\n",
    "group_names = [\"<10\", \"10-14\", \"15-19\", \"20-24\", \"25-29\", \"30-34\", \"35-39\", \"40+\"]\n",
    "\n",
    "# Categorize the existing players using the age bins. Hint: use pd.cut()\n",
    "# Calculate the numbers and percentages by age group\n",
    "hop_df[\"Age Group\"] = pd.cut(hop_df[\"Age\"], bins, labels=group_names)\n",
    "age_group = hop_df.groupby('Age Group')\n",
    "age_count = age_group[\"SN\"].nunique()\n",
    "age_percentage = ((age_count/player_count)*100)\n",
    "\n",
    "# Create a summary data frame to hold the results\n",
    "\n",
    "\n",
    "# Optional: round the percentage column to two decimal points\n",
    "\n",
    "\n",
    "# Display Age Demographics Table        \n",
    "\n",
    "\n",
    "# Purchase Count\n",
    "age_purchase_count = age_group['Purchase ID'].count()\n",
    "\n",
    "# Average Purchase Price\n",
    "age_purchase_price = age_group['Price'].mean()\n",
    "\n",
    "# Total Purchase Value\n",
    "age_total_purchase_val = age_group['Price'].sum()\n",
    "\n",
    "# Average Purchase Total per Person by Age Group\n",
    "age_avg_purchase = (age_total_purchase_val/age_purchase_count)"
   ]
  },
  {
   "cell_type": "code",
   "execution_count": 10,
   "metadata": {},
   "outputs": [
    {
     "data": {
      "text/html": [
       "<div>\n",
       "<style scoped>\n",
       "    .dataframe tbody tr th:only-of-type {\n",
       "        vertical-align: middle;\n",
       "    }\n",
       "\n",
       "    .dataframe tbody tr th {\n",
       "        vertical-align: top;\n",
       "    }\n",
       "\n",
       "    .dataframe thead th {\n",
       "        text-align: right;\n",
       "    }\n",
       "</style>\n",
       "<table border=\"1\" class=\"dataframe\">\n",
       "  <thead>\n",
       "    <tr style=\"text-align: right;\">\n",
       "      <th></th>\n",
       "      <th>SN</th>\n",
       "      <th>Price</th>\n",
       "    </tr>\n",
       "  </thead>\n",
       "  <tbody>\n",
       "    <tr>\n",
       "      <th>360</th>\n",
       "      <td>Lisosia93</td>\n",
       "      <td>18.96</td>\n",
       "    </tr>\n",
       "    <tr>\n",
       "      <th>246</th>\n",
       "      <td>Idastidru52</td>\n",
       "      <td>15.45</td>\n",
       "    </tr>\n",
       "    <tr>\n",
       "      <th>106</th>\n",
       "      <td>Chamjask73</td>\n",
       "      <td>13.83</td>\n",
       "    </tr>\n",
       "    <tr>\n",
       "      <th>275</th>\n",
       "      <td>Iral74</td>\n",
       "      <td>13.62</td>\n",
       "    </tr>\n",
       "    <tr>\n",
       "      <th>281</th>\n",
       "      <td>Iskadarya95</td>\n",
       "      <td>13.10</td>\n",
       "    </tr>\n",
       "    <tr>\n",
       "      <th>...</th>\n",
       "      <td>...</td>\n",
       "      <td>...</td>\n",
       "    </tr>\n",
       "    <tr>\n",
       "      <th>257</th>\n",
       "      <td>Ililsasya43</td>\n",
       "      <td>1.02</td>\n",
       "    </tr>\n",
       "    <tr>\n",
       "      <th>277</th>\n",
       "      <td>Irilis75</td>\n",
       "      <td>1.02</td>\n",
       "    </tr>\n",
       "    <tr>\n",
       "      <th>32</th>\n",
       "      <td>Aidai61</td>\n",
       "      <td>1.01</td>\n",
       "    </tr>\n",
       "    <tr>\n",
       "      <th>117</th>\n",
       "      <td>Chanirra79</td>\n",
       "      <td>1.01</td>\n",
       "    </tr>\n",
       "    <tr>\n",
       "      <th>54</th>\n",
       "      <td>Alo38</td>\n",
       "      <td>1.00</td>\n",
       "    </tr>\n",
       "  </tbody>\n",
       "</table>\n",
       "<p>576 rows × 2 columns</p>\n",
       "</div>"
      ],
      "text/plain": [
       "              SN  Price\n",
       "360    Lisosia93  18.96\n",
       "246  Idastidru52  15.45\n",
       "106   Chamjask73  13.83\n",
       "275       Iral74  13.62\n",
       "281  Iskadarya95  13.10\n",
       "..           ...    ...\n",
       "257  Ililsasya43   1.02\n",
       "277     Irilis75   1.02\n",
       "32       Aidai61   1.01\n",
       "117   Chanirra79   1.01\n",
       "54         Alo38   1.00\n",
       "\n",
       "[576 rows x 2 columns]"
      ]
     },
     "execution_count": 10,
     "metadata": {},
     "output_type": "execute_result"
    }
   ],
   "source": [
    "# Identify the the top 5 spenders in the game by total purchase value, then list (in a table):\n",
    "\n",
    "# SN\n",
    "top_spenders = hop_df.groupby('SN')\n",
    "\n",
    "# Purchase Count\n",
    "spender_count = top_spenders.count()\n",
    "\n",
    "# Average Purchase Price\n",
    "spender_avg = top_spenders['Price'].mean()\n",
    "\n",
    "# Total Purchase Value\n",
    "spender_total = top_spenders['Price'].sum().reset_index()\n",
    "spender_total.sort_values('Price', ascending=False)\n"
   ]
  },
  {
   "cell_type": "code",
   "execution_count": 11,
   "metadata": {},
   "outputs": [],
   "source": [
    "# Retrieve the Item ID, Item Name, and Item Price columns\n",
    "items = hop_df[['Item ID', 'Item Name', 'Price']]\n",
    "\n",
    "# Group by Item ID and Item Name. Perform calculations to obtain purchase count, item price, and total purchase value\n",
    "top_items = items.groupby(['Item ID','Item Name'])\n",
    "\n",
    "# Purchase Count\n",
    "top_item_count = top_items['Price'].count()\n",
    "\n",
    "# Total Purchase Value\n",
    "top_item_purchase_val = top_items['Price'].sum()\n",
    "\n",
    "# Item Price\n",
    "top_item_price = (top_item_purchase_val/top_item_count)\n",
    "\n",
    "# Create a summary data frame to hold the results\n",
    "top_items_table = pd.DataFrame({'Purchase Count': top_item_count,\n",
    "                                'Item Price': top_item_price,\n",
    "                                'Total Purchase Value': top_item_purchase_val})\n",
    "\n",
    "\n",
    "# Sort the purchase count column in descending order\n",
    "\n",
    "\n",
    "# Optional: give the displayed data cleaner formatting\n",
    "\n"
   ]
  },
  {
   "cell_type": "code",
   "execution_count": null,
   "metadata": {},
   "outputs": [],
   "source": [
    " # Sort the above table by total purchase value in descending order\n",
    "\n",
    "\n",
    "# Optional: give the displayed data cleaner formatting\n",
    "\n",
    "\n",
    "# Display a preview of the data frame\n",
    "\n",
    "# Identify the 5 most profitable items by total purchase value, then list (in a table):\n",
    "\n",
    "# Item ID\n",
    "# Item Name\n",
    "# Purchase Count\n",
    "# Item Price\n",
    "# Total Purchase Value"
   ]
  }
 ],
 "metadata": {
  "kernelspec": {
   "display_name": "Python 3",
   "language": "python",
   "name": "python3"
  },
  "language_info": {
   "codemirror_mode": {
    "name": "ipython",
    "version": 3
   },
   "file_extension": ".py",
   "mimetype": "text/x-python",
   "name": "python",
   "nbconvert_exporter": "python",
   "pygments_lexer": "ipython3",
   "version": "3.7.6"
  }
 },
 "nbformat": 4,
 "nbformat_minor": 4
}
